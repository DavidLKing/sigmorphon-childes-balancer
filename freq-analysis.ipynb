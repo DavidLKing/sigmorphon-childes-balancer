{
 "cells": [
  {
   "cell_type": "code",
   "execution_count": 1,
   "metadata": {},
   "outputs": [],
   "source": [
    "import sys\n",
    "from balance import Freq"
   ]
  },
  {
   "cell_type": "code",
   "execution_count": 2,
   "metadata": {},
   "outputs": [],
   "source": [
    "childes_data = open('childes-spanish/childes-spanish.txt', 'r').readlines()\n",
    "ud_data = open('ud-spanish/es_ancora-ud-train.conllu.txt', 'r').readlines()\n",
    "unimorph = open('uni-spanish/spa.txt', 'r').readlines()\n",
    "overreg = open('kendrasdata.tsv', 'r').readlines()"
   ]
  },
  {
   "cell_type": "code",
   "execution_count": 31,
   "metadata": {},
   "outputs": [],
   "source": [
    "# print(ud_data[0:10])\n",
    "def uniforms(unis, forms, freq_count):\n",
    "    for line in unis:\n",
    "        line = line.strip().split('\\t')\n",
    "        if len(line) > 1:\n",
    "            lemma = line[0]\n",
    "            wordform = line[1]\n",
    "            if wordform in forms:\n",
    "                if lemma in freq_count:\n",
    "                    # print(lemma, wordform)\n",
    "                    print(lemma, freq_count[lemma])"
   ]
  },
  {
   "cell_type": "code",
   "execution_count": null,
   "metadata": {},
   "outputs": [],
   "source": []
  },
  {
   "cell_type": "code",
   "execution_count": 4,
   "metadata": {},
   "outputs": [
    {
     "data": {
      "text/plain": [
       "1365343"
      ]
     },
     "execution_count": 4,
     "metadata": {},
     "output_type": "execute_result"
    }
   ],
   "source": [
    "len(childes_data)"
   ]
  },
  {
   "cell_type": "code",
   "execution_count": 5,
   "metadata": {},
   "outputs": [
    {
     "data": {
      "text/plain": [
       "503365"
      ]
     },
     "execution_count": 5,
     "metadata": {},
     "output_type": "execute_result"
    }
   ],
   "source": [
    "len(ud_data)"
   ]
  },
  {
   "cell_type": "code",
   "execution_count": 6,
   "metadata": {},
   "outputs": [
    {
     "data": {
      "text/plain": [
       "382956"
      ]
     },
     "execution_count": 6,
     "metadata": {},
     "output_type": "execute_result"
    }
   ],
   "source": [
    "len(unimorph)"
   ]
  },
  {
   "cell_type": "code",
   "execution_count": 6,
   "metadata": {},
   "outputs": [],
   "source": [
    "f = Freq()"
   ]
  },
  {
   "cell_type": "code",
   "execution_count": 7,
   "metadata": {},
   "outputs": [
    {
     "name": "stdout",
     "output_type": "stream",
     "text": [
      "Counting the frequencies in CHILDES\n"
     ]
    },
    {
     "name": "stdout",
     "output_type": "stream",
     "text": [
      "On 100000 of 1365343\n"
     ]
    },
    {
     "name": "stdout",
     "output_type": "stream",
     "text": [
      "On 200000 of 1365343\n"
     ]
    },
    {
     "name": "stdout",
     "output_type": "stream",
     "text": [
      "On 300000 of 1365343\n"
     ]
    },
    {
     "name": "stdout",
     "output_type": "stream",
     "text": [
      "On 400000 of 1365343\n"
     ]
    },
    {
     "name": "stdout",
     "output_type": "stream",
     "text": [
      "On 500000 of 1365343\n"
     ]
    },
    {
     "name": "stdout",
     "output_type": "stream",
     "text": [
      "On 600000 of 1365343\n"
     ]
    },
    {
     "name": "stdout",
     "output_type": "stream",
     "text": [
      "On 700000 of 1365343\n"
     ]
    },
    {
     "name": "stdout",
     "output_type": "stream",
     "text": [
      "On 800000 of 1365343\n"
     ]
    },
    {
     "name": "stdout",
     "output_type": "stream",
     "text": [
      "On 900000 of 1365343\n"
     ]
    },
    {
     "name": "stdout",
     "output_type": "stream",
     "text": [
      "On 1000000 of 1365343\n"
     ]
    },
    {
     "name": "stdout",
     "output_type": "stream",
     "text": [
      "On 1100000 of 1365343\n"
     ]
    },
    {
     "name": "stdout",
     "output_type": "stream",
     "text": [
      "On 1200000 of 1365343\n"
     ]
    },
    {
     "name": "stdout",
     "output_type": "stream",
     "text": [
      "On 1300000 of 1365343\n"
     ]
    }
   ],
   "source": [
    "ch_freqs = f.getFreqs(childes_data)"
   ]
  },
  {
   "cell_type": "code",
   "execution_count": 9,
   "metadata": {},
   "outputs": [
    {
     "name": "stdout",
     "output_type": "stream",
     "text": [
      "Counting the frequencies in UDs\n"
     ]
    },
    {
     "name": "stdout",
     "output_type": "stream",
     "text": [
      "On 100000 of 503365\n"
     ]
    },
    {
     "name": "stdout",
     "output_type": "stream",
     "text": [
      "On 200000 of 503365\n"
     ]
    },
    {
     "name": "stdout",
     "output_type": "stream",
     "text": [
      "On 300000 of 503365\n"
     ]
    },
    {
     "name": "stdout",
     "output_type": "stream",
     "text": [
      "On 400000 of 503365\n"
     ]
    },
    {
     "name": "stdout",
     "output_type": "stream",
     "text": [
      "On 500000 of 503365\n"
     ]
    }
   ],
   "source": [
    "ud_freqs, ud_lex_freqs, ud_lex2form, ud_form2lex = f.getUDFreqs(ud_data)"
   ]
  },
  {
   "cell_type": "code",
   "execution_count": 6,
   "metadata": {},
   "outputs": [
    {
     "data": {
      "text/plain": [
       "566"
      ]
     },
     "execution_count": 6,
     "metadata": {},
     "output_type": "execute_result"
    }
   ],
   "source": [
    "ud_lex_freqs['presidente']"
   ]
  },
  {
   "cell_type": "code",
   "execution_count": 10,
   "metadata": {},
   "outputs": [],
   "source": [
    "def get_forms(annotations):\n",
    "    lemmas = set()\n",
    "    forms = set()\n",
    "    for line in annotations:\n",
    "        if not line[3].startswith('supplet'):\n",
    "            line = line.strip().split('\\t')\n",
    "            lemmas.add(line[0])\n",
    "            forms.add(line[1])\n",
    "            # print(line)\n",
    "    return lemmas, forms"
   ]
  },
  {
   "cell_type": "code",
   "execution_count": 11,
   "metadata": {
    "collapsed": true
   },
   "outputs": [],
   "source": [
    "reg_lems, reg_forms = get_forms(overreg)"
   ]
  },
  {
   "cell_type": "code",
   "execution_count": 12,
   "metadata": {
    "collapsed": true
   },
   "outputs": [
    {
     "name": "stdout",
     "output_type": "stream",
     "text": [
      "abrir 110\ndecir 820\nrehacer 2\ndeshacer 8\ncontradecir 1\nromper 55\nexponer 21\nsatisfacer 11\nvolver 195\ndescubrir 26\ninscribir 10\nposponer 3\nescribir 48\nhacer 1153\ndisolver 10\ndesenvolver 2\ncomponer 15\noponer 21\nresolver 46\nimponer 61\ncubrir 30\nproveer 2\nimprimir 3\nponer 269\nmorir 67\ndisponer 56\ndevolver 25\n"
     ]
    }
   ],
   "source": [
    "for lex in reg_lems:\n",
    "    if lex in ud_freqs:\n",
    "        print(lex, ud_lex_freqs[lex])"
   ]
  },
  {
   "cell_type": "code",
   "execution_count": 13,
   "metadata": {
    "collapsed": true
   },
   "outputs": [
    {
     "name": "stdout",
     "output_type": "stream",
     "text": [
      "provistos 1\ndescubrir 8\nprovisto 1\nescribió 9\ndescubro 1\nescribir 11\nfritos 1\nescribe 8\nescritos 3\nfritas 1\nescribiría 1\ndescubierto 8\nprovista 1\nescrito 34\nescribirá 1\ndescubrió 6\nescrita 6\nescribí 1\nescribiendo 5\ndescubriendo 1\nescribía 1\ndescubre 3\ndecida 4\ndescubiertas 2\ndescubra 1\nescritas 1\nescribo 3\n"
     ]
    }
   ],
   "source": [
    "for form in reg_forms:\n",
    "    if form in ud_freqs:\n",
    "        print(form, ud_freqs[form])"
   ]
  },
  {
   "cell_type": "code",
   "execution_count": 20,
   "metadata": {
    "collapsed": true
   },
   "outputs": [
    {
     "name": "stdout",
     "output_type": "stream",
     "text": [
      "rompida 2\ndescubrir 6\ndescubrido 1\nrompido 12\nsoltado 11\nescribió 3\nescriben 9\ndecido 4\nescriban 1\nescriba 1\ndescubro 1\ndescubren 1\nhacido 1\nescribir 76\nfritos 2\nescribe 39\nfrito 13\nescribiste 4\nfritas 17\ndescubriesen 1\nsoltados 1\ndescubres 1\nescribes 11\ndescubierto 20\ndescubrí 1\nescribimos 2\nescrito 30\ndescubrió 3\nmorido 1\nabrido 4\nponida 3\nescribas 1\ndescubrimos 1\nescrita 1\nescribieran 1\nescribí 1\nescribiendo 40\nescribís 1\nfrita 9\nescribía 1\ndescubre 16\ndecida 1\nponido 17\nescribiré 1\nescritas 2\nescribo 2\n"
     ]
    }
   ],
   "source": [
    "for form in reg_forms:\n",
    "    if form in ch_freqs:\n",
    "        print(form, ch_freqs[form])"
   ]
  },
  {
   "cell_type": "code",
   "execution_count": 27,
   "metadata": {
    "collapsed": true
   },
   "outputs": [
    {
     "name": "stdout",
     "output_type": "stream",
     "text": [
      "descubierto 20\ndescubren 1\ndescubres 1\ndescubre 16\ndescubre 16\ndescubriesen 1\ndescubrimos 1\ndescubrimos 1\ndescubrió 3\ndescubrir 6\ndescubrí 1\ndescubro 1\nfritas 17\nfrita 9\nfrita 9\nfrito 13\n"
     ]
    },
    {
     "name": "stdout",
     "output_type": "stream",
     "text": [
      "soltados 1\nsoltado 11\n"
     ]
    }
   ],
   "source": [
    "# uniforms(unimorph, reg_forms, ch_freqs)"
   ]
  },
  {
   "cell_type": "code",
   "execution_count": 32,
   "metadata": {
    "collapsed": true
   },
   "outputs": [
    {
     "name": "stdout",
     "output_type": "stream",
     "text": [
      "descubrir descubiertas\ndescubrir 26\ndescubrir descubierta\ndescubrir 26\ndescubrir descubiertos\ndescubrir 26\ndescubrir descubierto\ndescubrir 26\ndescubrir descubráis\ndescubrir 26\ndescubrir descubramos\ndescubrir 26\ndescubrir descubramos\ndescubrir 26\ndescubrir descubran\ndescubrir 26\ndescubrir descubran\ndescubrir 26\ndescubrir descubras\ndescubrir 26\ndescubrir descubra\ndescubrir 26\ndescubrir descubra\ndescubrir 26\ndescubrir descubra\ndescubrir 26\ndescubrir descubren\ndescubrir 26\ndescubrir descubres\ndescubrir 26\ndescubrir descubre\ndescubrir 26\ndescubrir descubre\ndescubrir 26\ndescubrir descubríais\ndescubrir 26\ndescubrir descubríamos\ndescubrir 26\ndescubrir descubrían\ndescubrir 26\ndescubrir descubrías\ndescubrir 26\ndescubrir descubría\ndescubrir 26\ndescubrir descubría\ndescubrir 26\ndescubrir descubrid\ndescubrir 26\ndescubrir descubriendo\ndescubrir 26\ndescubrir descubrierais\ndescubrir 26\ndescubrir descubriéramos\ndescubrir 26\ndescubrir descubrieran\ndescubrir 26\ndescubrir descubrieras\ndescubrir 26\ndescubrir descubriera\ndescubrir 26\ndescubrir descubriera\ndescubrir 26\ndescubrir descubriereis\ndescubrir 26\ndescubrir descubriéremos\ndescubrir 26\ndescubrir descubrieren\ndescubrir 26\ndescubrir descubrieres\ndescubrir 26\ndescubrir descubriere\ndescubrir 26\ndescubrir descubriere\ndescubrir 26\ndescubrir descubrieron\ndescubrir 26\ndescubrir descubrieseis\ndescubrir 26\ndescubrir descubriésemos\ndescubrir 26\ndescubrir descubriesen\ndescubrir 26\ndescubrir descubrieses\ndescubrir 26\ndescubrir descubriese\ndescubrir 26\ndescubrir descubriese\ndescubrir 26\ndescubrir descubrimos\ndescubrir 26\ndescubrir descubrimos\ndescubrir 26\ndescubrir descubrió\ndescubrir 26\ndescubrir descubrirán\ndescubrir 26\ndescubrir descubrirás\ndescubrir 26\ndescubrir descubrirá\ndescubrir 26\ndescubrir descubriréis\ndescubrir 26\ndescubrir descubriremos\ndescubrir 26\ndescubrir descubriré\ndescubrir 26\ndescubrir descubriríais\ndescubrir 26\ndescubrir descubriríamos\ndescubrir 26\ndescubrir descubrirían\ndescubrir 26\ndescubrir descubrirías\ndescubrir 26\ndescubrir descubriría\ndescubrir 26\ndescubrir descubriría\ndescubrir 26\ndescubrir descubrir\ndescubrir 26\ndescubrir descubristeis\ndescubrir 26\ndescubrir descubriste\ndescubrir 26\ndescubrir descubrís\ndescubrir 26\ndescubrir descubrí\ndescubrir 26\ndescubrir descubro\ndescubrir 26\n"
     ]
    },
    {
     "name": "stdout",
     "output_type": "stream",
     "text": [
      "soltar soltadas\nsoltar 3\nsoltar soltada\nsoltar 3\nsoltar soltados\nsoltar 3\nsoltar soltado\nsoltar 3\n"
     ]
    }
   ],
   "source": [
    "uniforms(unimorph, reg_forms, ud_lex_freqs)"
   ]
  },
  {
   "cell_type": "code",
   "execution_count": null,
   "metadata": {},
   "outputs": [],
   "source": []
  }
 ],
 "metadata": {
  "kernelspec": {
   "display_name": "Python 3",
   "language": "python",
   "name": "python3"
  },
  "language_info": {
   "codemirror_mode": {
    "name": "ipython",
    "version": 3
   },
   "file_extension": ".py",
   "mimetype": "text/x-python",
   "name": "python",
   "nbconvert_exporter": "python",
   "pygments_lexer": "ipython3",
   "version": "3.6.6"
  }
 },
 "nbformat": 4,
 "nbformat_minor": 1
}
